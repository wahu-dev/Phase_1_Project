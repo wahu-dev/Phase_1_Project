{
 "cells": [
  {
   "cell_type": "markdown",
   "metadata": {},
   "source": [
    "# Business Objective\n",
    "Our company is expanding its portfolio by entering the aviation industry, with plans to purchase and operate airplanes for both commercial and private enterprises. However, the company lacks expertise in assessing the potential risks associated with aircraft operations. This analysis aims to identify the aircraft models with the lowest risk profiles to guide the head of the new aviation division in making informed purchasing decisions.\n",
    "\n",
    "# Aviation Data Analysis Project\n",
    "This notebook analyzes aviation accident and incident data from the `Aviation_Data.csv` file. The dataset contains information about aviation events. The goal is to explore the data, identify patterns, assess key risk factors, visualize key insights to recommend specific aircraft for purchase, prioritizing those with the best safety records.\n",
    "\n"
   ]
  },
  {
   "cell_type": "markdown",
   "metadata": {},
   "source": [
    "![Airplane flying over Aviation Analysis dashboard](Aviation.jpg)"
   ]
  },
  {
   "cell_type": "markdown",
   "metadata": {},
   "source": [
    "## Step 1: Import Libraries\n",
    "We will use the following Python libraries:\n",
    "- `pandas` and `numpy` for data manipulation and analysis\n",
    "- `matplotlib` and `seaborn` for visualizations"
   ]
  },
  {
   "cell_type": "code",
   "execution_count": 155,
   "metadata": {},
   "outputs": [],
   "source": [
    "import pandas as pd\n",
    "import numpy as np\n",
    "import matplotlib.pyplot as plt\n",
    "import seaborn as sns\n",
    "from datetime import datetime\n"
   ]
  },
  {
   "cell_type": "markdown",
   "metadata": {},
   "source": [
    "## Step 2: Load the Dataset\n",
    "Load the `Aviation_Data.csv` file into a pandas DataFrame and inspect its structure."
   ]
  },
  {
   "cell_type": "code",
   "execution_count": 156,
   "metadata": {},
   "outputs": [
    {
     "data": {
      "text/html": [
       "<div>\n",
       "<style scoped>\n",
       "    .dataframe tbody tr th:only-of-type {\n",
       "        vertical-align: middle;\n",
       "    }\n",
       "\n",
       "    .dataframe tbody tr th {\n",
       "        vertical-align: top;\n",
       "    }\n",
       "\n",
       "    .dataframe thead th {\n",
       "        text-align: right;\n",
       "    }\n",
       "</style>\n",
       "<table border=\"1\" class=\"dataframe\">\n",
       "  <thead>\n",
       "    <tr style=\"text-align: right;\">\n",
       "      <th></th>\n",
       "      <th>Event.Id</th>\n",
       "      <th>Investigation.Type</th>\n",
       "      <th>Accident.Number</th>\n",
       "      <th>Event.Date</th>\n",
       "      <th>Location</th>\n",
       "      <th>Country</th>\n",
       "      <th>Latitude</th>\n",
       "      <th>Longitude</th>\n",
       "      <th>Airport.Code</th>\n",
       "      <th>Airport.Name</th>\n",
       "      <th>...</th>\n",
       "      <th>Purpose.of.flight</th>\n",
       "      <th>Air.carrier</th>\n",
       "      <th>Total.Fatal.Injuries</th>\n",
       "      <th>Total.Serious.Injuries</th>\n",
       "      <th>Total.Minor.Injuries</th>\n",
       "      <th>Total.Uninjured</th>\n",
       "      <th>Weather.Condition</th>\n",
       "      <th>Broad.phase.of.flight</th>\n",
       "      <th>Report.Status</th>\n",
       "      <th>Publication.Date</th>\n",
       "    </tr>\n",
       "  </thead>\n",
       "  <tbody>\n",
       "    <tr>\n",
       "      <th>0</th>\n",
       "      <td>20001218X45444</td>\n",
       "      <td>Accident</td>\n",
       "      <td>SEA87LA080</td>\n",
       "      <td>1948-10-24</td>\n",
       "      <td>MOOSE CREEK, ID</td>\n",
       "      <td>United States</td>\n",
       "      <td>NaN</td>\n",
       "      <td>NaN</td>\n",
       "      <td>NaN</td>\n",
       "      <td>NaN</td>\n",
       "      <td>...</td>\n",
       "      <td>Personal</td>\n",
       "      <td>NaN</td>\n",
       "      <td>2.0</td>\n",
       "      <td>0.0</td>\n",
       "      <td>0.0</td>\n",
       "      <td>0.0</td>\n",
       "      <td>UNK</td>\n",
       "      <td>Cruise</td>\n",
       "      <td>Probable Cause</td>\n",
       "      <td>NaN</td>\n",
       "    </tr>\n",
       "    <tr>\n",
       "      <th>1</th>\n",
       "      <td>20001218X45447</td>\n",
       "      <td>Accident</td>\n",
       "      <td>LAX94LA336</td>\n",
       "      <td>1962-07-19</td>\n",
       "      <td>BRIDGEPORT, CA</td>\n",
       "      <td>United States</td>\n",
       "      <td>NaN</td>\n",
       "      <td>NaN</td>\n",
       "      <td>NaN</td>\n",
       "      <td>NaN</td>\n",
       "      <td>...</td>\n",
       "      <td>Personal</td>\n",
       "      <td>NaN</td>\n",
       "      <td>4.0</td>\n",
       "      <td>0.0</td>\n",
       "      <td>0.0</td>\n",
       "      <td>0.0</td>\n",
       "      <td>UNK</td>\n",
       "      <td>Unknown</td>\n",
       "      <td>Probable Cause</td>\n",
       "      <td>19-09-1996</td>\n",
       "    </tr>\n",
       "    <tr>\n",
       "      <th>2</th>\n",
       "      <td>20061025X01555</td>\n",
       "      <td>Accident</td>\n",
       "      <td>NYC07LA005</td>\n",
       "      <td>1974-08-30</td>\n",
       "      <td>Saltville, VA</td>\n",
       "      <td>United States</td>\n",
       "      <td>36.922223</td>\n",
       "      <td>-81.878056</td>\n",
       "      <td>NaN</td>\n",
       "      <td>NaN</td>\n",
       "      <td>...</td>\n",
       "      <td>Personal</td>\n",
       "      <td>NaN</td>\n",
       "      <td>3.0</td>\n",
       "      <td>NaN</td>\n",
       "      <td>NaN</td>\n",
       "      <td>NaN</td>\n",
       "      <td>IMC</td>\n",
       "      <td>Cruise</td>\n",
       "      <td>Probable Cause</td>\n",
       "      <td>26-02-2007</td>\n",
       "    </tr>\n",
       "    <tr>\n",
       "      <th>3</th>\n",
       "      <td>20001218X45448</td>\n",
       "      <td>Accident</td>\n",
       "      <td>LAX96LA321</td>\n",
       "      <td>1977-06-19</td>\n",
       "      <td>EUREKA, CA</td>\n",
       "      <td>United States</td>\n",
       "      <td>NaN</td>\n",
       "      <td>NaN</td>\n",
       "      <td>NaN</td>\n",
       "      <td>NaN</td>\n",
       "      <td>...</td>\n",
       "      <td>Personal</td>\n",
       "      <td>NaN</td>\n",
       "      <td>2.0</td>\n",
       "      <td>0.0</td>\n",
       "      <td>0.0</td>\n",
       "      <td>0.0</td>\n",
       "      <td>IMC</td>\n",
       "      <td>Cruise</td>\n",
       "      <td>Probable Cause</td>\n",
       "      <td>12-09-2000</td>\n",
       "    </tr>\n",
       "    <tr>\n",
       "      <th>4</th>\n",
       "      <td>20041105X01764</td>\n",
       "      <td>Accident</td>\n",
       "      <td>CHI79FA064</td>\n",
       "      <td>1979-08-02</td>\n",
       "      <td>Canton, OH</td>\n",
       "      <td>United States</td>\n",
       "      <td>NaN</td>\n",
       "      <td>NaN</td>\n",
       "      <td>NaN</td>\n",
       "      <td>NaN</td>\n",
       "      <td>...</td>\n",
       "      <td>Personal</td>\n",
       "      <td>NaN</td>\n",
       "      <td>1.0</td>\n",
       "      <td>2.0</td>\n",
       "      <td>NaN</td>\n",
       "      <td>0.0</td>\n",
       "      <td>VMC</td>\n",
       "      <td>Approach</td>\n",
       "      <td>Probable Cause</td>\n",
       "      <td>16-04-1980</td>\n",
       "    </tr>\n",
       "  </tbody>\n",
       "</table>\n",
       "<p>5 rows × 31 columns</p>\n",
       "</div>"
      ],
      "text/plain": [
       "         Event.Id Investigation.Type Accident.Number Event.Date  \\\n",
       "0  20001218X45444           Accident      SEA87LA080 1948-10-24   \n",
       "1  20001218X45447           Accident      LAX94LA336 1962-07-19   \n",
       "2  20061025X01555           Accident      NYC07LA005 1974-08-30   \n",
       "3  20001218X45448           Accident      LAX96LA321 1977-06-19   \n",
       "4  20041105X01764           Accident      CHI79FA064 1979-08-02   \n",
       "\n",
       "          Location        Country   Latitude   Longitude Airport.Code  \\\n",
       "0  MOOSE CREEK, ID  United States        NaN         NaN          NaN   \n",
       "1   BRIDGEPORT, CA  United States        NaN         NaN          NaN   \n",
       "2    Saltville, VA  United States  36.922223  -81.878056          NaN   \n",
       "3       EUREKA, CA  United States        NaN         NaN          NaN   \n",
       "4       Canton, OH  United States        NaN         NaN          NaN   \n",
       "\n",
       "  Airport.Name  ... Purpose.of.flight Air.carrier Total.Fatal.Injuries  \\\n",
       "0          NaN  ...          Personal         NaN                  2.0   \n",
       "1          NaN  ...          Personal         NaN                  4.0   \n",
       "2          NaN  ...          Personal         NaN                  3.0   \n",
       "3          NaN  ...          Personal         NaN                  2.0   \n",
       "4          NaN  ...          Personal         NaN                  1.0   \n",
       "\n",
       "  Total.Serious.Injuries Total.Minor.Injuries Total.Uninjured  \\\n",
       "0                    0.0                  0.0             0.0   \n",
       "1                    0.0                  0.0             0.0   \n",
       "2                    NaN                  NaN             NaN   \n",
       "3                    0.0                  0.0             0.0   \n",
       "4                    2.0                  NaN             0.0   \n",
       "\n",
       "  Weather.Condition  Broad.phase.of.flight   Report.Status Publication.Date  \n",
       "0               UNK                 Cruise  Probable Cause              NaN  \n",
       "1               UNK                Unknown  Probable Cause       19-09-1996  \n",
       "2               IMC                 Cruise  Probable Cause       26-02-2007  \n",
       "3               IMC                 Cruise  Probable Cause       12-09-2000  \n",
       "4               VMC               Approach  Probable Cause       16-04-1980  \n",
       "\n",
       "[5 rows x 31 columns]"
      ]
     },
     "execution_count": 156,
     "metadata": {},
     "output_type": "execute_result"
    }
   ],
   "source": [
    "# Load the dataset\n",
    "# Using parse_dates does it upfront, saving an extra step and ensuring consistent formatting\n",
    "# It would have been the same as \"df['Event.Date'] = pd.to_datetime(df['Event.Date'])\"\n",
    "\n",
    "# low_memory=False tells pandas to process the file in one go rather than chunks, \n",
    "# helps infer correct data types especially useful when the file is large and has mixed data types.\n",
    "\n",
    "df = pd.read_csv('Aviation_Data.csv', parse_dates=['Event.Date'], low_memory=False)\n",
    "\n",
    "# Display the first 5 rows\n",
    "df.head()"
   ]
  },
  {
   "cell_type": "markdown",
   "metadata": {},
   "source": [
    "## Step 3: Data Exploration\n",
    "Examining the dataset's structure and data types. \n",
    "\n",
    "Check for missing values."
   ]
  },
  {
   "cell_type": "code",
   "execution_count": 157,
   "metadata": {},
   "outputs": [
    {
     "name": "stdout",
     "output_type": "stream",
     "text": [
      "<class 'pandas.core.frame.DataFrame'>\n",
      "RangeIndex: 90348 entries, 0 to 90347\n",
      "Data columns (total 31 columns):\n",
      " #   Column                  Non-Null Count  Dtype         \n",
      "---  ------                  --------------  -----         \n",
      " 0   Event.Id                88889 non-null  object        \n",
      " 1   Investigation.Type      90348 non-null  object        \n",
      " 2   Accident.Number         88889 non-null  object        \n",
      " 3   Event.Date              88889 non-null  datetime64[ns]\n",
      " 4   Location                88837 non-null  object        \n",
      " 5   Country                 88663 non-null  object        \n",
      " 6   Latitude                34382 non-null  object        \n",
      " 7   Longitude               34373 non-null  object        \n",
      " 8   Airport.Code            50132 non-null  object        \n",
      " 9   Airport.Name            52704 non-null  object        \n",
      " 10  Injury.Severity         87889 non-null  object        \n",
      " 11  Aircraft.damage         85695 non-null  object        \n",
      " 12  Aircraft.Category       32287 non-null  object        \n",
      " 13  Registration.Number     87507 non-null  object        \n",
      " 14  Make                    88826 non-null  object        \n",
      " 15  Model                   88797 non-null  object        \n",
      " 16  Amateur.Built           88787 non-null  object        \n",
      " 17  Number.of.Engines       82805 non-null  float64       \n",
      " 18  Engine.Type             81793 non-null  object        \n",
      " 19  FAR.Description         32023 non-null  object        \n",
      " 20  Schedule                12582 non-null  object        \n",
      " 21  Purpose.of.flight       82697 non-null  object        \n",
      " 22  Air.carrier             16648 non-null  object        \n",
      " 23  Total.Fatal.Injuries    77488 non-null  float64       \n",
      " 24  Total.Serious.Injuries  76379 non-null  float64       \n",
      " 25  Total.Minor.Injuries    76956 non-null  float64       \n",
      " 26  Total.Uninjured         82977 non-null  float64       \n",
      " 27  Weather.Condition       84397 non-null  object        \n",
      " 28  Broad.phase.of.flight   61724 non-null  object        \n",
      " 29  Report.Status           82505 non-null  object        \n",
      " 30  Publication.Date        73659 non-null  object        \n",
      "dtypes: datetime64[ns](1), float64(5), object(25)\n",
      "memory usage: 21.4+ MB\n"
     ]
    }
   ],
   "source": [
    "# Display basic information \n",
    "df.info()"
   ]
  },
  {
   "cell_type": "code",
   "execution_count": 158,
   "metadata": {},
   "outputs": [],
   "source": [
    "df = df.dropna(subset=['Aircraft.Category'])"
   ]
  },
  {
   "cell_type": "code",
   "execution_count": 159,
   "metadata": {},
   "outputs": [
    {
     "name": "stdout",
     "output_type": "stream",
     "text": [
      "<class 'pandas.core.frame.DataFrame'>\n",
      "Index: 32287 entries, 5 to 90345\n",
      "Data columns (total 31 columns):\n",
      " #   Column                  Non-Null Count  Dtype         \n",
      "---  ------                  --------------  -----         \n",
      " 0   Event.Id                32287 non-null  object        \n",
      " 1   Investigation.Type      32287 non-null  object        \n",
      " 2   Accident.Number         32287 non-null  object        \n",
      " 3   Event.Date              32287 non-null  datetime64[ns]\n",
      " 4   Location                32278 non-null  object        \n",
      " 5   Country                 32275 non-null  object        \n",
      " 6   Latitude                25967 non-null  object        \n",
      " 7   Longitude               25957 non-null  object        \n",
      " 8   Airport.Code            19501 non-null  object        \n",
      " 9   Airport.Name            20124 non-null  object        \n",
      " 10  Injury.Severity         31403 non-null  object        \n",
      " 11  Aircraft.damage         30829 non-null  object        \n",
      " 12  Aircraft.Category       32287 non-null  object        \n",
      " 13  Registration.Number     32001 non-null  object        \n",
      " 14  Make                    32275 non-null  object        \n",
      " 15  Model                   32254 non-null  object        \n",
      " 16  Amateur.Built           32268 non-null  object        \n",
      " 17  Number.of.Engines       28830 non-null  float64       \n",
      " 18  Engine.Type             26728 non-null  object        \n",
      " 19  FAR.Description         31679 non-null  object        \n",
      " 20  Schedule                3488 non-null   object        \n",
      " 21  Purpose.of.flight       27839 non-null  object        \n",
      " 22  Air.carrier             13625 non-null  object        \n",
      " 23  Total.Fatal.Injuries    28576 non-null  float64       \n",
      " 24  Total.Serious.Injuries  28567 non-null  float64       \n",
      " 25  Total.Minor.Injuries    28955 non-null  float64       \n",
      " 26  Total.Uninjured         31207 non-null  float64       \n",
      " 27  Weather.Condition       28624 non-null  object        \n",
      " 28  Broad.phase.of.flight   7378 non-null   object        \n",
      " 29  Report.Status           26325 non-null  object        \n",
      " 30  Publication.Date        29637 non-null  object        \n",
      "dtypes: datetime64[ns](1), float64(5), object(25)\n",
      "memory usage: 7.9+ MB\n"
     ]
    }
   ],
   "source": [
    "df.info()"
   ]
  },
  {
   "cell_type": "markdown",
   "metadata": {},
   "source": [
    "From the above information, we can tell the below:\n",
    "1. Index: 32287 entries\n",
    "   We have 32287 rows and any column that has less than that `Non-Null Count` as presented above, is proof of missing values.\n",
    "2. Data columns (total 31 columns):\n",
    "   We have 31 columns.\n",
    "3. Data types:\n",
    "   With exception of `Number.of.Engines`, `Total.Fatal.Injuries`, `Total.Serious.Injuries`, `Total.Minor.Injuries`, `Total.Uninjured` that have a           `float64`, all the other columns have an `object` data type."
   ]
  },
  {
   "cell_type": "code",
   "execution_count": 160,
   "metadata": {
    "scrolled": true
   },
   "outputs": [
    {
     "data": {
      "text/plain": [
       "Event.Id                      0\n",
       "Investigation.Type            0\n",
       "Accident.Number               0\n",
       "Event.Date                    0\n",
       "Location                      9\n",
       "Country                      12\n",
       "Latitude                   6320\n",
       "Longitude                  6330\n",
       "Airport.Code              12786\n",
       "Airport.Name              12163\n",
       "Injury.Severity             884\n",
       "Aircraft.damage            1458\n",
       "Aircraft.Category             0\n",
       "Registration.Number         286\n",
       "Make                         12\n",
       "Model                        33\n",
       "Amateur.Built                19\n",
       "Number.of.Engines          3457\n",
       "Engine.Type                5559\n",
       "FAR.Description             608\n",
       "Schedule                  28799\n",
       "Purpose.of.flight          4448\n",
       "Air.carrier               18662\n",
       "Total.Fatal.Injuries       3711\n",
       "Total.Serious.Injuries     3720\n",
       "Total.Minor.Injuries       3332\n",
       "Total.Uninjured            1080\n",
       "Weather.Condition          3663\n",
       "Broad.phase.of.flight     24909\n",
       "Report.Status              5962\n",
       "Publication.Date           2650\n",
       "dtype: int64"
      ]
     },
     "execution_count": 160,
     "metadata": {},
     "output_type": "execute_result"
    }
   ],
   "source": [
    "# Check for missing values\n",
    "df.isnull().sum()"
   ]
  },
  {
   "cell_type": "code",
   "execution_count": 161,
   "metadata": {},
   "outputs": [
    {
     "data": {
      "text/plain": [
       "Event.Id                   0.000000\n",
       "Investigation.Type         0.000000\n",
       "Accident.Number            0.000000\n",
       "Event.Date                 0.000000\n",
       "Location                   0.027875\n",
       "Country                    0.037167\n",
       "Latitude                  19.574442\n",
       "Longitude                 19.605414\n",
       "Airport.Code              39.601078\n",
       "Airport.Name              37.671509\n",
       "Injury.Severity            2.737944\n",
       "Aircraft.damage            4.515749\n",
       "Aircraft.Category          0.000000\n",
       "Registration.Number        0.885805\n",
       "Make                       0.037167\n",
       "Model                      0.102208\n",
       "Amateur.Built              0.058847\n",
       "Number.of.Engines         10.707096\n",
       "Engine.Type               17.217456\n",
       "FAR.Description            1.883111\n",
       "Schedule                  89.196890\n",
       "Purpose.of.flight         13.776443\n",
       "Air.carrier               57.800353\n",
       "Total.Fatal.Injuries      11.493790\n",
       "Total.Serious.Injuries    11.521665\n",
       "Total.Minor.Injuries      10.319943\n",
       "Total.Uninjured            3.345000\n",
       "Weather.Condition         11.345123\n",
       "Broad.phase.of.flight     77.148698\n",
       "Report.Status             18.465636\n",
       "Publication.Date           8.207638\n",
       "dtype: float64"
      ]
     },
     "execution_count": 161,
     "metadata": {},
     "output_type": "execute_result"
    }
   ],
   "source": [
    "# Check for missing values in terms of percentages\n",
    "df.isnull().mean() * 100"
   ]
  },
  {
   "cell_type": "markdown",
   "metadata": {},
   "source": [
    "As our main focus would be determining which aircraft are the lowest risk for the company to start the new business, our column of focus will be `Aircraft.Category`, and every other column will be centered around this."
   ]
  },
  {
   "cell_type": "markdown",
   "metadata": {},
   "source": [
    "Comfortably dropping `Broad.phase.of.flight`, `Schedule`, `Air Carrier` columns because of the high % of missing values.\n",
    "Dropping columns not directly affecting my business objective"
   ]
  },
  {
   "cell_type": "code",
   "execution_count": 162,
   "metadata": {},
   "outputs": [],
   "source": [
    "df.drop(columns=['Broad.phase.of.flight', 'Schedule', 'Air.carrier'])\n",
    "df.drop(columns=['Investigation.Type', 'Accident.Number', 'Airport.Code', 'Airport.Name', 'Report.Status', 'Publication.Date'], inplace = True)"
   ]
  },
  {
   "cell_type": "code",
   "execution_count": 163,
   "metadata": {},
   "outputs": [
    {
     "data": {
      "text/plain": [
       "Index(['Event.Id', 'Event.Date', 'Location', 'Country', 'Latitude',\n",
       "       'Longitude', 'Injury.Severity', 'Aircraft.damage', 'Aircraft.Category',\n",
       "       'Registration.Number', 'Make', 'Model', 'Amateur.Built',\n",
       "       'Number.of.Engines', 'Engine.Type', 'FAR.Description', 'Schedule',\n",
       "       'Purpose.of.flight', 'Air.carrier', 'Total.Fatal.Injuries',\n",
       "       'Total.Serious.Injuries', 'Total.Minor.Injuries', 'Total.Uninjured',\n",
       "       'Weather.Condition', 'Broad.phase.of.flight'],\n",
       "      dtype='object')"
      ]
     },
     "execution_count": 163,
     "metadata": {},
     "output_type": "execute_result"
    }
   ],
   "source": [
    "df.columns"
   ]
  },
  {
   "cell_type": "code",
   "execution_count": 164,
   "metadata": {},
   "outputs": [
    {
     "data": {
      "text/plain": [
       "25"
      ]
     },
     "execution_count": 164,
     "metadata": {},
     "output_type": "execute_result"
    }
   ],
   "source": [
    "# Number of the columns I'll work with\n",
    "len(df.columns)"
   ]
  },
  {
   "cell_type": "code",
   "execution_count": 165,
   "metadata": {},
   "outputs": [
    {
     "data": {
      "text/plain": [
       "(32287, 25)"
      ]
     },
     "execution_count": 165,
     "metadata": {},
     "output_type": "execute_result"
    }
   ],
   "source": [
    "df.shape"
   ]
  },
  {
   "cell_type": "markdown",
   "metadata": {},
   "source": [
    "## Step 4: Data Cleaning"
   ]
  },
  {
   "cell_type": "markdown",
   "metadata": {},
   "source": [
    "The dataset that has remained contains a few missing values and inconsistent data. We'll perform the following cleaning steps:\n",
    "1. Handle missing values by filling with either mean, mode or median where appropriate.\n",
    "2. Standardize categorical columns (e.g., `Weather.Condition`)."
   ]
  },
  {
   "cell_type": "code",
   "execution_count": 166,
   "metadata": {},
   "outputs": [
    {
     "data": {
      "text/plain": [
       "Index(['Event.Id', 'Event.Date', 'Location', 'Country', 'Latitude',\n",
       "       'Longitude', 'Injury.Severity', 'Aircraft.damage', 'Aircraft.Category',\n",
       "       'Registration.Number', 'Make', 'Model', 'Amateur.Built',\n",
       "       'Number.of.Engines', 'Engine.Type', 'FAR.Description', 'Schedule',\n",
       "       'Purpose.of.flight', 'Air.carrier', 'Total.Fatal.Injuries',\n",
       "       'Total.Serious.Injuries', 'Total.Minor.Injuries', 'Total.Uninjured',\n",
       "       'Weather.Condition', 'Broad.phase.of.flight'],\n",
       "      dtype='object')"
      ]
     },
     "execution_count": 166,
     "metadata": {},
     "output_type": "execute_result"
    }
   ],
   "source": [
    "df.columns"
   ]
  },
  {
   "cell_type": "code",
   "execution_count": 167,
   "metadata": {},
   "outputs": [
    {
     "data": {
      "text/plain": [
       "Location\n",
       "Anchorage, AK    103\n",
       "Phoenix, AZ       85\n",
       "Palmer, AK        75\n",
       "Talkeetna, AK     73\n",
       "Atlanta, GA       71\n",
       "Fairbanks, AK     69\n",
       "Houston, TX       67\n",
       "Las Vegas, NV     63\n",
       "Reno, NV          61\n",
       "Miami, FL         61\n",
       "Name: count, dtype: int64"
      ]
     },
     "execution_count": 167,
     "metadata": {},
     "output_type": "execute_result"
    }
   ],
   "source": [
    "# checking out column Location\n",
    "df['Location'].value_counts().head(10)"
   ]
  },
  {
   "cell_type": "code",
   "execution_count": null,
   "metadata": {},
   "outputs": [],
   "source": []
  },
  {
   "cell_type": "code",
   "execution_count": 168,
   "metadata": {},
   "outputs": [
    {
     "data": {
      "image/png": "[encoded data removed]",
      "text/plain": [
       "<Figure size 640x480 with 1 Axes>"
      ]
     },
     "metadata": {},
     "output_type": "display_data"
    }
   ],
   "source": [
    "df['Year'] = pd.to_datetime(df['Event.Date']).dt.year\n",
    "df.groupby('Year')['Event.Id'].count().plot(kind='line');"
   ]
  },
  {
   "cell_type": "code",
   "execution_count": null,
   "metadata": {},
   "outputs": [],
   "source": []
  }
 ],
 "metadata": {
  "kernelspec": {
   "display_name": "Python 3 (ipykernel)",
   "language": "python",
   "name": "python3"
  },
  "language_info": {
   "codemirror_mode": {
    "name": "ipython",
    "version": 3
   },
   "file_extension": ".py",
   "mimetype": "text/x-python",
   "name": "python",
   "nbconvert_exporter": "python",
   "pygments_lexer": "ipython3",
   "version": "3.13.5"
  }
 },
 "nbformat": 4,
 "nbformat_minor": 4
}
